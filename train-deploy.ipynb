{
 "cells": [
  {
   "cell_type": "markdown",
   "metadata": {},
   "source": [
    "# Capstone Project"
   ]
  },
  {
   "cell_type": "markdown",
   "metadata": {},
   "source": [
    "## Import Libraries and set environment"
   ]
  },
  {
   "cell_type": "code",
   "execution_count": 21,
   "metadata": {},
   "outputs": [
    {
     "name": "stderr",
     "output_type": "stream",
     "text": [
      "c:\\Users\\Momas\\miniconda3\\envs\\gluon\\lib\\site-packages\\scipy\\__init__.py:155: UserWarning: A NumPy version >=1.18.5 and <1.25.0 is required for this version of SciPy (detected version 1.26.4\n",
      "  warnings.warn(f\"A NumPy version >={np_minversion} and <{np_maxversion}\"\n"
     ]
    },
    {
     "name": "stdout",
     "output_type": "stream",
     "text": [
      "sagemaker.config INFO - Not applying SDK defaults from location: C:\\ProgramData\\sagemaker\\sagemaker\\config.yaml\n",
      "sagemaker.config INFO - Not applying SDK defaults from location: C:\\Users\\Momas\\AppData\\Local\\sagemaker\\sagemaker\\config.yaml\n"
     ]
    }
   ],
   "source": [
    "import os\n",
    "\n",
    "import pandas as pd\n",
    "import seaborn as sns\n",
    "import matplotlib.pyplot as plt\n",
    "import numpy as np\n",
    "from sklearn.model_selection import train_test_split\n",
    "\n",
    "\n",
    "import torch\n",
    "from torch import nn, optim\n",
    "import torch.nn.functional as F\n",
    "from torch.utils.data import Dataset, DataLoader\n",
    "\n",
    "import sagemaker\n",
    "import boto3\n",
    "from sagemaker.tuner import IntegerParameter, CategoricalParameter, ContinuousParameter, HyperparameterTuner"
   ]
  },
  {
   "cell_type": "code",
   "execution_count": null,
   "metadata": {},
   "outputs": [],
   "source": [
    "# Set environment variables \n",
    "session = sagemaker.Session()\n",
    "role = sagemaker.get_execution_role()\n",
    "\n",
    "bucket = \"capstone4910\"\n",
    "prefix = \"data/\""
   ]
  },
  {
   "cell_type": "markdown",
   "metadata": {},
   "source": [
    "## Explore data"
   ]
  },
  {
   "cell_type": "code",
   "execution_count": 18,
   "metadata": {},
   "outputs": [
    {
     "data": {
      "text/html": [
       "<div>\n",
       "<style scoped>\n",
       "    .dataframe tbody tr th:only-of-type {\n",
       "        vertical-align: middle;\n",
       "    }\n",
       "\n",
       "    .dataframe tbody tr th {\n",
       "        vertical-align: top;\n",
       "    }\n",
       "\n",
       "    .dataframe thead th {\n",
       "        text-align: right;\n",
       "    }\n",
       "</style>\n",
       "<table border=\"1\" class=\"dataframe\">\n",
       "  <thead>\n",
       "    <tr style=\"text-align: right;\">\n",
       "      <th></th>\n",
       "      <th>...1</th>\n",
       "      <th>bacterium</th>\n",
       "      <th>modifications</th>\n",
       "      <th>sequence</th>\n",
       "      <th>strain</th>\n",
       "      <th>unit</th>\n",
       "      <th>url_source</th>\n",
       "      <th>log(MIC)</th>\n",
       "      <th>pMIC</th>\n",
       "      <th>is_modified</th>\n",
       "      <th>...</th>\n",
       "      <th>sequence_len</th>\n",
       "      <th>id</th>\n",
       "      <th>secondary_structure</th>\n",
       "      <th>len</th>\n",
       "      <th>helix_group</th>\n",
       "      <th>sheet_group</th>\n",
       "      <th>coil_group</th>\n",
       "      <th>helix_percentage</th>\n",
       "      <th>sheet_percentage</th>\n",
       "      <th>coil_percentage</th>\n",
       "    </tr>\n",
       "  </thead>\n",
       "  <tbody>\n",
       "    <tr>\n",
       "      <th>0</th>\n",
       "      <td>2112</td>\n",
       "      <td>E. coli</td>\n",
       "      <td>[]</td>\n",
       "      <td>AAAAAAAAAAGIGKFLHSAKKFGKAFVGEIMNS</td>\n",
       "      <td>ATCC 25922</td>\n",
       "      <td>uM</td>\n",
       "      <td>https://dbaasp.org/peptide-card?id=5613</td>\n",
       "      <td>2.10</td>\n",
       "      <td>3.90</td>\n",
       "      <td>False</td>\n",
       "      <td>...</td>\n",
       "      <td>33</td>\n",
       "      <td>GRAMPA_1984</td>\n",
       "      <td>CCCHHHHHHHCCCHHHHHHHHHHHHHHHHHCCC</td>\n",
       "      <td>33</td>\n",
       "      <td>70-80</td>\n",
       "      <td>0-10</td>\n",
       "      <td>20-30</td>\n",
       "      <td>72.73</td>\n",
       "      <td>0.00</td>\n",
       "      <td>27.27</td>\n",
       "    </tr>\n",
       "    <tr>\n",
       "      <th>1</th>\n",
       "      <td>5527</td>\n",
       "      <td>E. coli</td>\n",
       "      <td>[C-Terminus: AMD]</td>\n",
       "      <td>AAAAAAAIKMLMDLVNERIMALNKKAKK</td>\n",
       "      <td>ATCC 25922</td>\n",
       "      <td>uM</td>\n",
       "      <td>https://dbaasp.org/peptide-card?id=7719</td>\n",
       "      <td>1.00</td>\n",
       "      <td>5.00</td>\n",
       "      <td>True</td>\n",
       "      <td>...</td>\n",
       "      <td>28</td>\n",
       "      <td>GRAMPA_5154</td>\n",
       "      <td>CCCHHHHHHHHHHHHHHHHHHHHHHCCC</td>\n",
       "      <td>28</td>\n",
       "      <td>70-80</td>\n",
       "      <td>0-10</td>\n",
       "      <td>20-30</td>\n",
       "      <td>78.57</td>\n",
       "      <td>0.00</td>\n",
       "      <td>21.43</td>\n",
       "    </tr>\n",
       "    <tr>\n",
       "      <th>2</th>\n",
       "      <td>7671</td>\n",
       "      <td>E. coli</td>\n",
       "      <td>[]</td>\n",
       "      <td>AAAAGSVWGAVNYTSDCNGECKRRGYKGGYCGSFANVNCWCET</td>\n",
       "      <td>NaN</td>\n",
       "      <td>uM</td>\n",
       "      <td>http://www.yadamp.unisa.it/showItem.aspx?yadam...</td>\n",
       "      <td>2.00</td>\n",
       "      <td>4.00</td>\n",
       "      <td>False</td>\n",
       "      <td>...</td>\n",
       "      <td>43</td>\n",
       "      <td>GRAMPA_5919</td>\n",
       "      <td>CCCCCCCECCCCECCCHHHHHHHCCCCEEEEECCCCCEEEEEC</td>\n",
       "      <td>43</td>\n",
       "      <td>10-20</td>\n",
       "      <td>20-30</td>\n",
       "      <td>50-60</td>\n",
       "      <td>16.28</td>\n",
       "      <td>27.91</td>\n",
       "      <td>55.81</td>\n",
       "    </tr>\n",
       "    <tr>\n",
       "      <th>3</th>\n",
       "      <td>3562</td>\n",
       "      <td>E. coli</td>\n",
       "      <td>[]</td>\n",
       "      <td>AAAKAALNAVLVGANA</td>\n",
       "      <td>TG1</td>\n",
       "      <td>uM</td>\n",
       "      <td>https://dbaasp.org/peptide-card?id=618</td>\n",
       "      <td>1.90</td>\n",
       "      <td>4.10</td>\n",
       "      <td>False</td>\n",
       "      <td>...</td>\n",
       "      <td>16</td>\n",
       "      <td>GRAMPA_3326</td>\n",
       "      <td>CCCHHHHHHHHHCCCC</td>\n",
       "      <td>16</td>\n",
       "      <td>50-60</td>\n",
       "      <td>0-10</td>\n",
       "      <td>40-50</td>\n",
       "      <td>56.25</td>\n",
       "      <td>0.00</td>\n",
       "      <td>43.75</td>\n",
       "    </tr>\n",
       "    <tr>\n",
       "      <th>4</th>\n",
       "      <td>5678</td>\n",
       "      <td>E. coli</td>\n",
       "      <td>[]</td>\n",
       "      <td>AACSDRAHGHICESFKSFCKDSGRNGVKLRANCKKTCGLC</td>\n",
       "      <td>NaN</td>\n",
       "      <td>uM</td>\n",
       "      <td>https://dbaasp.org/peptide-card?id=5171</td>\n",
       "      <td>0.25</td>\n",
       "      <td>5.75</td>\n",
       "      <td>False</td>\n",
       "      <td>...</td>\n",
       "      <td>40</td>\n",
       "      <td>GRAMPA_5298</td>\n",
       "      <td>CCCCCCCCCCCECCCCCCCCCCCCCCEEEECECHHCCCCC</td>\n",
       "      <td>40</td>\n",
       "      <td>0-10</td>\n",
       "      <td>10-20</td>\n",
       "      <td>70-80</td>\n",
       "      <td>5.00</td>\n",
       "      <td>15.00</td>\n",
       "      <td>80.00</td>\n",
       "    </tr>\n",
       "  </tbody>\n",
       "</table>\n",
       "<p>5 rows × 24 columns</p>\n",
       "</div>"
      ],
      "text/plain": [
       "   ...1 bacterium      modifications  \\\n",
       "0  2112   E. coli                 []   \n",
       "1  5527   E. coli  [C-Terminus: AMD]   \n",
       "2  7671   E. coli                 []   \n",
       "3  3562   E. coli                 []   \n",
       "4  5678   E. coli                 []   \n",
       "\n",
       "                                      sequence      strain unit  \\\n",
       "0            AAAAAAAAAAGIGKFLHSAKKFGKAFVGEIMNS  ATCC 25922   uM   \n",
       "1                 AAAAAAAIKMLMDLVNERIMALNKKAKK  ATCC 25922   uM   \n",
       "2  AAAAGSVWGAVNYTSDCNGECKRRGYKGGYCGSFANVNCWCET         NaN   uM   \n",
       "3                             AAAKAALNAVLVGANA         TG1   uM   \n",
       "4     AACSDRAHGHICESFKSFCKDSGRNGVKLRANCKKTCGLC         NaN   uM   \n",
       "\n",
       "                                          url_source  log(MIC)  pMIC  \\\n",
       "0            https://dbaasp.org/peptide-card?id=5613      2.10  3.90   \n",
       "1            https://dbaasp.org/peptide-card?id=7719      1.00  5.00   \n",
       "2  http://www.yadamp.unisa.it/showItem.aspx?yadam...      2.00  4.00   \n",
       "3             https://dbaasp.org/peptide-card?id=618      1.90  4.10   \n",
       "4            https://dbaasp.org/peptide-card?id=5171      0.25  5.75   \n",
       "\n",
       "   is_modified  ...  sequence_len           id  \\\n",
       "0        False  ...            33  GRAMPA_1984   \n",
       "1         True  ...            28  GRAMPA_5154   \n",
       "2        False  ...            43  GRAMPA_5919   \n",
       "3        False  ...            16  GRAMPA_3326   \n",
       "4        False  ...            40  GRAMPA_5298   \n",
       "\n",
       "                           secondary_structure len  helix_group sheet_group  \\\n",
       "0            CCCHHHHHHHCCCHHHHHHHHHHHHHHHHHCCC  33        70-80        0-10   \n",
       "1                 CCCHHHHHHHHHHHHHHHHHHHHHHCCC  28        70-80        0-10   \n",
       "2  CCCCCCCECCCCECCCHHHHHHHCCCCEEEEECCCCCEEEEEC  43        10-20       20-30   \n",
       "3                             CCCHHHHHHHHHCCCC  16        50-60        0-10   \n",
       "4     CCCCCCCCCCCECCCCCCCCCCCCCCEEEECECHHCCCCC  40         0-10       10-20   \n",
       "\n",
       "  coil_group  helix_percentage sheet_percentage coil_percentage  \n",
       "0      20-30             72.73             0.00           27.27  \n",
       "1      20-30             78.57             0.00           21.43  \n",
       "2      50-60             16.28            27.91           55.81  \n",
       "3      40-50             56.25             0.00           43.75  \n",
       "4      70-80              5.00            15.00           80.00  \n",
       "\n",
       "[5 rows x 24 columns]"
      ]
     },
     "execution_count": 18,
     "metadata": {},
     "output_type": "execute_result"
    }
   ],
   "source": [
    "# Import data\n",
    "dataset = pd.read_csv(\"data/ecoli_structure_filtered.csv\")\n",
    "dataset.head()"
   ]
  },
  {
   "cell_type": "code",
   "execution_count": 6,
   "metadata": {},
   "outputs": [
    {
     "data": {
      "image/png": "[encoded data removed]",
      "text/plain": [
       "<Figure size 1000x600 with 1 Axes>"
      ]
     },
     "metadata": {},
     "output_type": "display_data"
    }
   ],
   "source": [
    "# Create figure and axis\n",
    "plt.figure(figsize=(10, 6))\n",
    "\n",
    "# Density plots for secondary structure composition \n",
    "sns.kdeplot(dataset[\"helix_percentage\"], label=\"helix\", fill=True) #kde: Kernel Density Estimate\n",
    "sns.kdeplot(dataset[\"coil_percentage\"], label=\"coil\", fill=True)\n",
    "sns.kdeplot(dataset[\"sheet_percentage\"], label=\"sheet\", fill=True)\n",
    "\n",
    "# Customize the plot\n",
    "plt.title(\"Secondary structure composition across our dataset.\")\n",
    "plt.xlabel(\"Composition %\")\n",
    "plt.legend()\n",
    "\n",
    "# Show plot\n",
    "plt.show()"
   ]
  },
  {
   "cell_type": "code",
   "execution_count": 19,
   "metadata": {},
   "outputs": [
    {
     "data": {
      "text/plain": [
       "(4540, 24)"
      ]
     },
     "execution_count": 19,
     "metadata": {},
     "output_type": "execute_result"
    }
   ],
   "source": [
    "dataset.shape"
   ]
  },
  {
   "cell_type": "markdown",
   "metadata": {},
   "source": [
    "## Prepare data"
   ]
  },
  {
   "cell_type": "markdown",
   "metadata": {},
   "source": [
    "### Split the data"
   ]
  },
  {
   "cell_type": "code",
   "execution_count": 22,
   "metadata": {},
   "outputs": [],
   "source": [
    "# The inputs to create the Dataset are numpy arrays\n",
    "\n",
    "X = np.array(dataset[\"sequence\"])\n",
    "y = np.array(dataset[\"pMIC\"])\n",
    "\n",
    "X_train, X_test, y_train, y_test = train_test_split(X, y, test_size=0.2, random_state=42)"
   ]
  },
  {
   "cell_type": "code",
   "execution_count": 9,
   "metadata": {},
   "outputs": [
    {
     "name": "stdout",
     "output_type": "stream",
     "text": [
      "Stored 'X_train' (ndarray)\n",
      "Stored 'X_test' (ndarray)\n",
      "Stored 'y_train' (ndarray)\n",
      "Stored 'y_test' (ndarray)\n"
     ]
    }
   ],
   "source": [
    "#%store X_train\n",
    "#%store X_test\n",
    "#%store y_train\n",
    "#%store y_test"
   ]
  },
  {
   "cell_type": "code",
   "execution_count": 3,
   "metadata": {},
   "outputs": [],
   "source": [
    "%store -r X_train\n",
    "%store -r X_test\n",
    "%store -r y_train\n",
    "%store -r y_test"
   ]
  },
  {
   "cell_type": "markdown",
   "metadata": {},
   "source": [
    "### Save datasets for each split\n",
    "We'll save each data split in a separate named directory so we can have more control to how we pass data to the traininng/HPO jobs"
   ]
  },
  {
   "cell_type": "code",
   "execution_count": 92,
   "metadata": {},
   "outputs": [],
   "source": [
    "# Transform back to df\n",
    "train_df = pd.DataFrame(X_train)\n",
    "train_df[\"pMIC\"] = y_train\n",
    "train_df = train_df.rename(columns={0: \"sequence\"})\n",
    "\n",
    "val_df = pd.DataFrame(X_test)\n",
    "val_df[\"pMIC\"] = y_test\n",
    "val_df = val_df.rename(columns={0: \"sequence\"})"
   ]
  },
  {
   "cell_type": "code",
   "execution_count": 94,
   "metadata": {},
   "outputs": [],
   "source": [
    "# Save each split as CSV files\n",
    "train_df.to_csv(\"data/train/ecoli_train_im.csv\", index=False)\n",
    "val_df.to_csv(\"data/validation/ecoli_val_im.csv\", index=False)"
   ]
  },
  {
   "cell_type": "code",
   "execution_count": 25,
   "metadata": {},
   "outputs": [
    {
     "data": {
      "text/plain": [
       "'2.3.1+cpu'"
      ]
     },
     "execution_count": 25,
     "metadata": {},
     "output_type": "execute_result"
    }
   ],
   "source": [
    "torch.__version__"
   ]
  },
  {
   "cell_type": "code",
   "execution_count": 9,
   "metadata": {},
   "outputs": [],
   "source": [
    "from torch.nn import MSELoss"
   ]
  },
  {
   "cell_type": "markdown",
   "metadata": {},
   "source": [
    "#### ----------"
   ]
  },
  {
   "cell_type": "code",
   "execution_count": 14,
   "metadata": {},
   "outputs": [
    {
     "name": "stdout",
     "output_type": "stream",
     "text": [
      "CPU times: total: 0 ns\n",
      "Wall time: 0 ns\n",
      "Starting training.\n",
      "Starting training.\n",
      "Model moved to cpu\n",
      "Model moved to cpu\n"
     ]
    },
    {
     "name": "stderr",
     "output_type": "stream",
     "text": [
      "Training:   0%|          | 0/10 [00:00<?, ?it/s]"
     ]
    },
    {
     "name": "stdout",
     "output_type": "stream",
     "text": [
      "Epoch 1/10, Training Loss: 0.008\n",
      "Epoch 1/10, Training Loss: 0.008\n",
      "Epoch 1/10, Training MSE: 0.961\n",
      "Epoch 1/10, Training MSE: 0.961\n",
      "Epoch 1/10, Training R2: -0.67, Training RMSE: 0.980, Training MAE: 0.786\n",
      "Epoch 1/10, Training R2: -0.67, Training RMSE: 0.980, Training MAE: 0.786\n",
      "Validation started.\n",
      "Validation started.\n",
      "Epoch 1/10, Validation Loss: 0.009\n",
      "Epoch 1/10, Validation Loss: 0.009\n",
      "Epoch 1/10, Validation MSE: 1.040\n",
      "Epoch 1/10, Validation MSE: 1.040\n",
      "Epoch 1/10, Validation R2: -0.73, Validation RMSE: 1.020, Validation MAE: 0.835\n",
      "Epoch 1/10, Validation R2: -0.73, Validation RMSE: 1.020, Validation MAE: 0.835\n"
     ]
    },
    {
     "name": "stderr",
     "output_type": "stream",
     "text": [
      "Training:  10%|█         | 1/10 [00:03<00:30,  3.43s/it]"
     ]
    },
    {
     "name": "stdout",
     "output_type": "stream",
     "text": [
      "Epoch 2/10, Training Loss: 0.006\n",
      "Epoch 2/10, Training Loss: 0.006\n",
      "Epoch 2/10, Training MSE: 0.735\n",
      "Epoch 2/10, Training MSE: 0.735\n",
      "Epoch 2/10, Training R2: -0.28, Training RMSE: 0.857, Training MAE: 0.693\n",
      "Epoch 2/10, Training R2: -0.28, Training RMSE: 0.857, Training MAE: 0.693\n",
      "Validation started.\n",
      "Validation started.\n",
      "Epoch 2/10, Validation Loss: 0.006\n",
      "Epoch 2/10, Validation Loss: 0.006\n",
      "Epoch 2/10, Validation MSE: 0.629\n",
      "Epoch 2/10, Validation MSE: 0.629\n",
      "Epoch 2/10, Validation R2: -0.05, Validation RMSE: 0.793, Validation MAE: 0.638\n",
      "Epoch 2/10, Validation R2: -0.05, Validation RMSE: 0.793, Validation MAE: 0.638\n"
     ]
    },
    {
     "name": "stderr",
     "output_type": "stream",
     "text": [
      "Training:  20%|██        | 2/10 [00:05<00:22,  2.81s/it]"
     ]
    },
    {
     "name": "stdout",
     "output_type": "stream",
     "text": [
      "Epoch 3/10, Training Loss: 0.005\n",
      "Epoch 3/10, Training Loss: 0.005\n",
      "Epoch 3/10, Training MSE: 0.599\n",
      "Epoch 3/10, Training MSE: 0.599\n",
      "Epoch 3/10, Training R2: -0.04, Training RMSE: 0.774, Training MAE: 0.633\n",
      "Epoch 3/10, Training R2: -0.04, Training RMSE: 0.774, Training MAE: 0.633\n",
      "Validation started.\n",
      "Validation started.\n",
      "Epoch 3/10, Validation Loss: 0.006\n",
      "Epoch 3/10, Validation Loss: 0.006\n",
      "Epoch 3/10, Validation MSE: 0.600\n",
      "Epoch 3/10, Validation MSE: 0.600\n",
      "Epoch 3/10, Validation R2: -0.00, Validation RMSE: 0.775, Validation MAE: 0.622\n",
      "Epoch 3/10, Validation R2: -0.00, Validation RMSE: 0.775, Validation MAE: 0.622\n"
     ]
    },
    {
     "name": "stderr",
     "output_type": "stream",
     "text": [
      "Training:  30%|███       | 3/10 [00:08<00:18,  2.59s/it]"
     ]
    },
    {
     "name": "stdout",
     "output_type": "stream",
     "text": [
      "Epoch 4/10, Training Loss: 0.005\n",
      "Epoch 4/10, Training Loss: 0.005\n",
      "Epoch 4/10, Training MSE: 0.613\n",
      "Epoch 4/10, Training MSE: 0.613\n",
      "Epoch 4/10, Training R2: -0.07, Training RMSE: 0.783, Training MAE: 0.637\n",
      "Epoch 4/10, Training R2: -0.07, Training RMSE: 0.783, Training MAE: 0.637\n",
      "Validation started.\n",
      "Validation started.\n",
      "Epoch 4/10, Validation Loss: 0.006\n",
      "Epoch 4/10, Validation Loss: 0.006\n",
      "Epoch 4/10, Validation MSE: 0.612\n",
      "Epoch 4/10, Validation MSE: 0.612\n",
      "Epoch 4/10, Validation R2: -0.02, Validation RMSE: 0.782, Validation MAE: 0.630\n",
      "Epoch 4/10, Validation R2: -0.02, Validation RMSE: 0.782, Validation MAE: 0.630\n"
     ]
    },
    {
     "name": "stderr",
     "output_type": "stream",
     "text": [
      "Training:  40%|████      | 4/10 [00:10<00:15,  2.55s/it]"
     ]
    },
    {
     "name": "stdout",
     "output_type": "stream",
     "text": [
      "Epoch 5/10, Training Loss: 0.005\n",
      "Epoch 5/10, Training Loss: 0.005\n",
      "Epoch 5/10, Training MSE: 0.618\n",
      "Epoch 5/10, Training MSE: 0.618\n",
      "Epoch 5/10, Training R2: -0.08, Training RMSE: 0.786, Training MAE: 0.641\n",
      "Epoch 5/10, Training R2: -0.08, Training RMSE: 0.786, Training MAE: 0.641\n",
      "Validation started.\n",
      "Validation started.\n",
      "Epoch 5/10, Validation Loss: 0.006\n",
      "Epoch 5/10, Validation Loss: 0.006\n",
      "Epoch 5/10, Validation MSE: 0.610\n",
      "Epoch 5/10, Validation MSE: 0.610\n",
      "Epoch 5/10, Validation R2: -0.02, Validation RMSE: 0.781, Validation MAE: 0.628\n",
      "Epoch 5/10, Validation R2: -0.02, Validation RMSE: 0.781, Validation MAE: 0.628\n"
     ]
    },
    {
     "name": "stderr",
     "output_type": "stream",
     "text": [
      "Training:  50%|█████     | 5/10 [00:13<00:12,  2.54s/it]"
     ]
    },
    {
     "name": "stdout",
     "output_type": "stream",
     "text": [
      "Epoch 6/10, Training Loss: 0.005\n",
      "Epoch 6/10, Training Loss: 0.005\n",
      "Epoch 6/10, Training MSE: 0.583\n",
      "Epoch 6/10, Training MSE: 0.583\n",
      "Epoch 6/10, Training R2: -0.02, Training RMSE: 0.764, Training MAE: 0.624\n",
      "Epoch 6/10, Training R2: -0.02, Training RMSE: 0.764, Training MAE: 0.624\n",
      "Validation started.\n",
      "Validation started.\n",
      "Epoch 6/10, Validation Loss: 0.006\n",
      "Epoch 6/10, Validation Loss: 0.006\n",
      "Epoch 6/10, Validation MSE: 0.658\n",
      "Epoch 6/10, Validation MSE: 0.658\n",
      "Epoch 6/10, Validation R2: -0.10, Validation RMSE: 0.811, Validation MAE: 0.653\n",
      "Epoch 6/10, Validation R2: -0.10, Validation RMSE: 0.811, Validation MAE: 0.653\n"
     ]
    },
    {
     "name": "stderr",
     "output_type": "stream",
     "text": [
      "Training:  60%|██████    | 6/10 [00:15<00:10,  2.51s/it]"
     ]
    },
    {
     "name": "stdout",
     "output_type": "stream",
     "text": [
      "Epoch 7/10, Training Loss: 0.005\n",
      "Epoch 7/10, Training Loss: 0.005\n",
      "Epoch 7/10, Training MSE: 0.623\n",
      "Epoch 7/10, Training MSE: 0.623\n",
      "Epoch 7/10, Training R2: -0.08, Training RMSE: 0.789, Training MAE: 0.645\n",
      "Epoch 7/10, Training R2: -0.08, Training RMSE: 0.789, Training MAE: 0.645\n",
      "Validation started.\n",
      "Validation started.\n",
      "Epoch 7/10, Validation Loss: 0.006\n",
      "Epoch 7/10, Validation Loss: 0.006\n",
      "Epoch 7/10, Validation MSE: 0.612\n",
      "Epoch 7/10, Validation MSE: 0.612\n",
      "Epoch 7/10, Validation R2: -0.02, Validation RMSE: 0.782, Validation MAE: 0.629\n",
      "Epoch 7/10, Validation R2: -0.02, Validation RMSE: 0.782, Validation MAE: 0.629\n"
     ]
    },
    {
     "name": "stderr",
     "output_type": "stream",
     "text": [
      "Training:  70%|███████   | 7/10 [00:17<00:07,  2.44s/it]"
     ]
    },
    {
     "name": "stdout",
     "output_type": "stream",
     "text": [
      "Epoch 8/10, Training Loss: 0.005\n",
      "Epoch 8/10, Training Loss: 0.005\n",
      "Epoch 8/10, Training MSE: 0.617\n",
      "Epoch 8/10, Training MSE: 0.617\n",
      "Epoch 8/10, Training R2: -0.07, Training RMSE: 0.786, Training MAE: 0.638\n",
      "Epoch 8/10, Training R2: -0.07, Training RMSE: 0.786, Training MAE: 0.638\n",
      "Validation started.\n",
      "Validation started.\n",
      "Epoch 8/10, Validation Loss: 0.006\n",
      "Epoch 8/10, Validation Loss: 0.006\n",
      "Epoch 8/10, Validation MSE: 0.602\n",
      "Epoch 8/10, Validation MSE: 0.602\n",
      "Epoch 8/10, Validation R2: -0.00, Validation RMSE: 0.776, Validation MAE: 0.623\n",
      "Epoch 8/10, Validation R2: -0.00, Validation RMSE: 0.776, Validation MAE: 0.623\n"
     ]
    },
    {
     "name": "stderr",
     "output_type": "stream",
     "text": [
      "Training:  80%|████████  | 8/10 [00:20<00:04,  2.41s/it]"
     ]
    },
    {
     "name": "stdout",
     "output_type": "stream",
     "text": [
      "Epoch 9/10, Training Loss: 0.005\n",
      "Epoch 9/10, Training Loss: 0.005\n",
      "Epoch 9/10, Training MSE: 0.620\n",
      "Epoch 9/10, Training MSE: 0.620\n",
      "Epoch 9/10, Training R2: -0.08, Training RMSE: 0.787, Training MAE: 0.639\n",
      "Epoch 9/10, Training R2: -0.08, Training RMSE: 0.787, Training MAE: 0.639\n",
      "Validation started.\n",
      "Validation started.\n",
      "Epoch 9/10, Validation Loss: 0.006\n",
      "Epoch 9/10, Validation Loss: 0.006\n",
      "Epoch 9/10, Validation MSE: 0.608\n",
      "Epoch 9/10, Validation MSE: 0.608\n",
      "Epoch 9/10, Validation R2: -0.01, Validation RMSE: 0.780, Validation MAE: 0.627\n",
      "Epoch 9/10, Validation R2: -0.01, Validation RMSE: 0.780, Validation MAE: 0.627\n"
     ]
    },
    {
     "name": "stderr",
     "output_type": "stream",
     "text": [
      "Training:  90%|█████████ | 9/10 [00:22<00:02,  2.44s/it]"
     ]
    },
    {
     "name": "stdout",
     "output_type": "stream",
     "text": [
      "Epoch 10/10, Training Loss: 0.005\n",
      "Epoch 10/10, Training Loss: 0.005\n",
      "Epoch 10/10, Training MSE: 0.590\n",
      "Epoch 10/10, Training MSE: 0.590\n",
      "Epoch 10/10, Training R2: -0.03, Training RMSE: 0.768, Training MAE: 0.626\n",
      "Epoch 10/10, Training R2: -0.03, Training RMSE: 0.768, Training MAE: 0.626\n",
      "Validation started.\n",
      "Validation started.\n",
      "Epoch 10/10, Validation Loss: 0.006\n",
      "Epoch 10/10, Validation Loss: 0.006\n",
      "Epoch 10/10, Validation MSE: 0.610\n",
      "Epoch 10/10, Validation MSE: 0.610\n",
      "Epoch 10/10, Validation R2: -0.02, Validation RMSE: 0.781, Validation MAE: 0.627\n",
      "Epoch 10/10, Validation R2: -0.02, Validation RMSE: 0.781, Validation MAE: 0.627\n"
     ]
    },
    {
     "name": "stderr",
     "output_type": "stream",
     "text": [
      "Training: 100%|██████████| 10/10 [00:25<00:00,  2.53s/it]"
     ]
    },
    {
     "name": "stdout",
     "output_type": "stream",
     "text": [
      "Finished training for 10s epochs.\n",
      "Finished training for 10s epochs.\n"
     ]
    },
    {
     "name": "stderr",
     "output_type": "stream",
     "text": [
      "\n"
     ]
    }
   ],
   "source": [
    "%time\n",
    "# Fit model\n",
    "train(my_model, train_loader, test_loader, optimizer, epochs, device, criterion=loss_fn)"
   ]
  },
  {
   "cell_type": "code",
   "execution_count": 12,
   "metadata": {},
   "outputs": [
    {
     "name": "stdout",
     "output_type": "stream",
     "text": [
      "CPU times: total: 0 ns\n",
      "Wall time: 0 ns\n",
      "Testing started.\n",
      "Model moved to cpu\n"
     ]
    },
    {
     "data": {
      "text/plain": [
       "array([[4.993476 ],\n",
       "       [4.993915 ],\n",
       "       [4.9938846],\n",
       "       [4.9938774],\n",
       "       [4.9938803],\n",
       "       [4.993802 ],\n",
       "       [4.9939075],\n",
       "       [4.9939384],\n",
       "       [4.9938655],\n",
       "       [4.993896 ],\n",
       "       [4.993856 ],\n",
       "       [4.9939156],\n",
       "       [4.993891 ],\n",
       "       [4.9939017],\n",
       "       [4.9938936],\n",
       "       [4.9938707],\n",
       "       [4.993903 ],\n",
       "       [4.9939117],\n",
       "       [4.993925 ],\n",
       "       [4.993866 ],\n",
       "       [4.993892 ],\n",
       "       [4.993915 ],\n",
       "       [4.9938693],\n",
       "       [4.9938793],\n",
       "       [4.993909 ],\n",
       "       [4.9937787],\n",
       "       [4.993917 ],\n",
       "       [4.9939194],\n",
       "       [4.993925 ],\n",
       "       [4.9939127],\n",
       "       [4.9935646],\n",
       "       [4.993812 ],\n",
       "       [4.993917 ],\n",
       "       [4.993903 ],\n",
       "       [4.9939117],\n",
       "       [4.99392  ],\n",
       "       [4.993866 ],\n",
       "       [4.9938807],\n",
       "       [4.9939117],\n",
       "       [4.9939113],\n",
       "       [4.9939027],\n",
       "       [4.9939127],\n",
       "       [4.9938955],\n",
       "       [4.993901 ],\n",
       "       [4.993922 ],\n",
       "       [4.9939156],\n",
       "       [4.9938645],\n",
       "       [4.9939184],\n",
       "       [4.993881 ],\n",
       "       [4.9939203],\n",
       "       [4.993905 ],\n",
       "       [4.993904 ],\n",
       "       [4.9938846],\n",
       "       [4.9939036],\n",
       "       [4.9939146],\n",
       "       [4.993834 ],\n",
       "       [4.9938188],\n",
       "       [4.993906 ],\n",
       "       [4.993911 ],\n",
       "       [4.993759 ],\n",
       "       [4.993899 ],\n",
       "       [4.9938455],\n",
       "       [4.9936624],\n",
       "       [4.993922 ],\n",
       "       [4.99391  ],\n",
       "       [4.993841 ],\n",
       "       [4.993843 ],\n",
       "       [4.9938574],\n",
       "       [4.993923 ],\n",
       "       [4.9939194],\n",
       "       [4.993888 ],\n",
       "       [4.993909 ],\n",
       "       [4.993912 ],\n",
       "       [4.993904 ],\n",
       "       [4.993903 ],\n",
       "       [4.9938374],\n",
       "       [4.993665 ],\n",
       "       [4.993917 ],\n",
       "       [4.993847 ],\n",
       "       [4.99391  ],\n",
       "       [4.993899 ],\n",
       "       [4.99384  ],\n",
       "       [4.9937873],\n",
       "       [4.9939013],\n",
       "       [4.993893 ],\n",
       "       [4.993911 ],\n",
       "       [4.9938936],\n",
       "       [4.993846 ],\n",
       "       [4.993856 ],\n",
       "       [4.9939246],\n",
       "       [4.993911 ],\n",
       "       [4.9938984],\n",
       "       [4.9939375],\n",
       "       [4.9939127],\n",
       "       [4.9938803],\n",
       "       [4.99392  ],\n",
       "       [4.9938455],\n",
       "       [4.99391  ],\n",
       "       [4.9939094],\n",
       "       [4.9939117],\n",
       "       [4.9938498],\n",
       "       [4.993905 ],\n",
       "       [4.99391  ],\n",
       "       [4.9939146],\n",
       "       [4.9938874],\n",
       "       [4.9938703],\n",
       "       [4.993904 ],\n",
       "       [4.9938526],\n",
       "       [4.9938793],\n",
       "       [4.993722 ],\n",
       "       [4.9938917],\n",
       "       [4.9938183],\n",
       "       [4.9939165],\n",
       "       [4.9938974],\n",
       "       [4.9938936],\n",
       "       [4.9938946],\n",
       "       [4.993874 ],\n",
       "       [4.993908 ],\n",
       "       [4.9938984],\n",
       "       [4.9939137],\n",
       "       [4.9937153],\n",
       "       [4.9939156],\n",
       "       [4.9939127],\n",
       "       [4.993909 ],\n",
       "       [4.9938793],\n",
       "       [4.993911 ],\n",
       "       [4.9938855],\n",
       "       [4.993893 ],\n",
       "       [4.993854 ],\n",
       "       [4.9938707],\n",
       "       [4.9938583],\n",
       "       [4.99391  ],\n",
       "       [4.9938803],\n",
       "       [4.993841 ],\n",
       "       [4.993893 ],\n",
       "       [4.9938507],\n",
       "       [4.9939094],\n",
       "       [4.993772 ],\n",
       "       [4.9938745],\n",
       "       [4.9939156],\n",
       "       [4.993905 ],\n",
       "       [4.993797 ],\n",
       "       [4.9938593],\n",
       "       [4.993907 ],\n",
       "       [4.9939013],\n",
       "       [4.993913 ],\n",
       "       [4.9938874],\n",
       "       [4.993916 ],\n",
       "       [4.9938984],\n",
       "       [4.9938745],\n",
       "       [4.993845 ],\n",
       "       [4.9938793],\n",
       "       [4.9939036],\n",
       "       [4.9939165],\n",
       "       [4.9939127],\n",
       "       [4.993893 ],\n",
       "       [4.9939075],\n",
       "       [4.9938803],\n",
       "       [4.9938917],\n",
       "       [4.9938965],\n",
       "       [4.993907 ],\n",
       "       [4.9938703],\n",
       "       [4.9939117],\n",
       "       [4.9938836],\n",
       "       [4.993856 ],\n",
       "       [4.993848 ],\n",
       "       [4.9938626],\n",
       "       [4.9939094],\n",
       "       [4.9938188],\n",
       "       [4.9938765],\n",
       "       [4.9938703],\n",
       "       [4.993896 ],\n",
       "       [4.9938846],\n",
       "       [4.9938726],\n",
       "       [4.9939127],\n",
       "       [4.993914 ],\n",
       "       [4.9939127],\n",
       "       [4.993905 ],\n",
       "       [4.9934154],\n",
       "       [4.99391  ],\n",
       "       [4.9939137],\n",
       "       [4.993889 ],\n",
       "       [4.9938993],\n",
       "       [4.9939   ],\n",
       "       [4.993861 ],\n",
       "       [4.9939237],\n",
       "       [4.99391  ],\n",
       "       [4.993902 ],\n",
       "       [4.9939127],\n",
       "       [4.993905 ],\n",
       "       [4.993906 ],\n",
       "       [4.9938498],\n",
       "       [4.9938807],\n",
       "       [4.9938955],\n",
       "       [4.9938602],\n",
       "       [4.993916 ],\n",
       "       [4.9939294],\n",
       "       [4.993875 ],\n",
       "       [4.993882 ],\n",
       "       [4.993913 ],\n",
       "       [4.993893 ],\n",
       "       [4.993907 ],\n",
       "       [4.9938917],\n",
       "       [4.9938717],\n",
       "       [4.9939322],\n",
       "       [4.9939117],\n",
       "       [4.993885 ],\n",
       "       [4.993904 ],\n",
       "       [4.9938993],\n",
       "       [4.9938726],\n",
       "       [4.993908 ],\n",
       "       [4.9938774],\n",
       "       [4.9939084],\n",
       "       [4.993887 ],\n",
       "       [4.9938726],\n",
       "       [4.9939327],\n",
       "       [4.99391  ],\n",
       "       [4.993915 ],\n",
       "       [4.9938884],\n",
       "       [4.993905 ],\n",
       "       [4.993913 ],\n",
       "       [4.993839 ],\n",
       "       [4.9938545],\n",
       "       [4.9939127],\n",
       "       [4.9937544],\n",
       "       [4.99389  ],\n",
       "       [4.99391  ],\n",
       "       [4.993912 ],\n",
       "       [4.9938803],\n",
       "       [4.993917 ],\n",
       "       [4.993905 ],\n",
       "       [4.99391  ],\n",
       "       [4.9938993],\n",
       "       [4.9936566],\n",
       "       [4.99388  ],\n",
       "       [4.9938803],\n",
       "       [4.9939194],\n",
       "       [4.993846 ],\n",
       "       [4.9938927],\n",
       "       [4.993895 ],\n",
       "       [4.993918 ],\n",
       "       [4.9938903],\n",
       "       [4.993888 ],\n",
       "       [4.9939203],\n",
       "       [4.9939036],\n",
       "       [4.9939218],\n",
       "       [4.9938965],\n",
       "       [4.9938993],\n",
       "       [4.993906 ],\n",
       "       [4.9938636],\n",
       "       [4.99389  ],\n",
       "       [4.993903 ],\n",
       "       [4.993909 ],\n",
       "       [4.9939084],\n",
       "       [4.9939003],\n",
       "       [4.99389  ],\n",
       "       [4.9938946],\n",
       "       [4.993894 ],\n",
       "       [4.9939117],\n",
       "       [4.993916 ],\n",
       "       [4.9939203],\n",
       "       [4.993901 ],\n",
       "       [4.993911 ],\n",
       "       [4.993906 ],\n",
       "       [4.9939194],\n",
       "       [4.993916 ],\n",
       "       [4.993849 ],\n",
       "       [4.9938173],\n",
       "       [4.9938493],\n",
       "       [4.993893 ],\n",
       "       [4.993886 ],\n",
       "       [4.993909 ],\n",
       "       [4.9938912],\n",
       "       [4.993888 ],\n",
       "       [4.993909 ],\n",
       "       [4.993903 ],\n",
       "       [4.993793 ],\n",
       "       [4.9939137],\n",
       "       [4.9938354],\n",
       "       [4.993904 ],\n",
       "       [4.993865 ],\n",
       "       [4.993911 ],\n",
       "       [4.9938765],\n",
       "       [4.9939146],\n",
       "       [4.993883 ],\n",
       "       [4.9938865],\n",
       "       [4.993856 ],\n",
       "       [4.9938965],\n",
       "       [4.9939127],\n",
       "       [4.993867 ],\n",
       "       [4.993903 ],\n",
       "       [4.993903 ],\n",
       "       [4.993889 ],\n",
       "       [4.9939156],\n",
       "       [4.9939117],\n",
       "       [4.9939117],\n",
       "       [4.9939127],\n",
       "       [4.9939117],\n",
       "       [4.9938326],\n",
       "       [4.993884 ],\n",
       "       [4.993921 ],\n",
       "       [4.993903 ],\n",
       "       [4.993839 ],\n",
       "       [4.993912 ],\n",
       "       [4.993908 ],\n",
       "       [4.993906 ],\n",
       "       [4.993863 ],\n",
       "       [4.993897 ],\n",
       "       [4.9939175],\n",
       "       [4.993907 ],\n",
       "       [4.993827 ],\n",
       "       [4.993925 ],\n",
       "       [4.9938827],\n",
       "       [4.993906 ],\n",
       "       [4.9939017],\n",
       "       [4.9939184],\n",
       "       [4.9939127],\n",
       "       [4.9938297],\n",
       "       [4.9938984],\n",
       "       [4.99386  ],\n",
       "       [4.993886 ],\n",
       "       [4.993905 ],\n",
       "       [4.993882 ],\n",
       "       [4.993859 ],\n",
       "       [4.993862 ],\n",
       "       [4.993904 ],\n",
       "       [4.9938974],\n",
       "       [4.9938946],\n",
       "       [4.993907 ],\n",
       "       [4.9938765],\n",
       "       [4.993908 ],\n",
       "       [4.9939165],\n",
       "       [4.9937887],\n",
       "       [4.993791 ],\n",
       "       [4.9939003],\n",
       "       [4.993805 ],\n",
       "       [4.9939017],\n",
       "       [4.99389  ],\n",
       "       [4.9939127],\n",
       "       [4.9939   ],\n",
       "       [4.9938602],\n",
       "       [4.993871 ],\n",
       "       [4.9939156],\n",
       "       [4.99392  ],\n",
       "       [4.9938955],\n",
       "       [4.993915 ],\n",
       "       [4.9938726],\n",
       "       [4.9939165],\n",
       "       [4.993892 ],\n",
       "       [4.993884 ],\n",
       "       [4.993906 ],\n",
       "       [4.993911 ],\n",
       "       [4.9939003],\n",
       "       [4.993924 ],\n",
       "       [4.993891 ],\n",
       "       [4.9939175],\n",
       "       [4.9939003],\n",
       "       [4.9938364],\n",
       "       [4.993905 ],\n",
       "       [4.9938936],\n",
       "       [4.9938455],\n",
       "       [4.993872 ],\n",
       "       [4.9938483],\n",
       "       [4.9939013],\n",
       "       [4.9938974],\n",
       "       [4.99391  ],\n",
       "       [4.993903 ],\n",
       "       [4.9939127],\n",
       "       [4.9939137],\n",
       "       [4.99391  ],\n",
       "       [4.993897 ],\n",
       "       [4.9939194],\n",
       "       [4.993841 ],\n",
       "       [4.993874 ],\n",
       "       [4.9939117],\n",
       "       [4.9939027],\n",
       "       [4.993935 ],\n",
       "       [4.9939127],\n",
       "       [4.9938917],\n",
       "       [4.993914 ],\n",
       "       [4.9939113],\n",
       "       [4.9939127],\n",
       "       [4.993915 ],\n",
       "       [4.9939046],\n",
       "       [4.9939146],\n",
       "       [4.9938965],\n",
       "       [4.993921 ],\n",
       "       [4.9939117],\n",
       "       [4.993868 ],\n",
       "       [4.993862 ],\n",
       "       [4.9939127],\n",
       "       [4.9939156],\n",
       "       [4.993933 ],\n",
       "       [4.993906 ],\n",
       "       [4.9939013],\n",
       "       [4.993908 ],\n",
       "       [4.993919 ],\n",
       "       [4.9938927],\n",
       "       [4.993891 ],\n",
       "       [4.9938755],\n",
       "       [4.9939146],\n",
       "       [4.993911 ],\n",
       "       [4.993912 ],\n",
       "       [4.9938736],\n",
       "       [4.993914 ],\n",
       "       [4.9938807],\n",
       "       [4.993929 ],\n",
       "       [4.9939184],\n",
       "       [4.9938803],\n",
       "       [4.993827 ],\n",
       "       [4.99388  ],\n",
       "       [4.9939027],\n",
       "       [4.9937887],\n",
       "       [4.993862 ],\n",
       "       [4.993862 ],\n",
       "       [4.993891 ],\n",
       "       [4.9939103],\n",
       "       [4.993907 ],\n",
       "       [4.9939084],\n",
       "       [4.9938955],\n",
       "       [4.993864 ],\n",
       "       [4.9939   ],\n",
       "       [4.9938774],\n",
       "       [4.993907 ],\n",
       "       [4.993886 ],\n",
       "       [4.9938774],\n",
       "       [4.99393  ],\n",
       "       [4.993918 ],\n",
       "       [4.993904 ],\n",
       "       [4.9939246],\n",
       "       [4.9939218],\n",
       "       [4.993923 ],\n",
       "       [4.993906 ],\n",
       "       [4.9939017],\n",
       "       [4.99391  ],\n",
       "       [4.993879 ],\n",
       "       [4.9938726],\n",
       "       [4.9938073],\n",
       "       [4.9938874],\n",
       "       [4.993476 ],\n",
       "       [4.993905 ],\n",
       "       [4.9938655],\n",
       "       [4.9939156],\n",
       "       [4.9939203],\n",
       "       [4.9938965],\n",
       "       [4.9936905],\n",
       "       [4.993819 ],\n",
       "       [4.9939103],\n",
       "       [4.993914 ],\n",
       "       [4.993899 ],\n",
       "       [4.99386  ],\n",
       "       [4.993882 ],\n",
       "       [4.9938784],\n",
       "       [4.9938927]], dtype=float32)"
      ]
     },
     "execution_count": 12,
     "metadata": {},
     "output_type": "execute_result"
    }
   ],
   "source": [
    "%time\n",
    "test(my_model, test_loader, device)"
   ]
  },
  {
   "cell_type": "markdown",
   "metadata": {},
   "source": [
    "### Upload data to S3"
   ]
  },
  {
   "cell_type": "code",
   "execution_count": null,
   "metadata": {},
   "outputs": [],
   "source": [
    "# Upload data \n",
    "training_inputs = session.upload_data(path=\"data/train/ecoli_train_im.csv\", bucket=bucket, key_prefix=prefix + \"train\")\n",
    "validation_inputs = session.upload_data(path=\"data/validation/ecoli_val_im.csv\", bucket=bucket, key_prefix=prefix + \"validation\")"
   ]
  },
  {
   "cell_type": "markdown",
   "metadata": {},
   "source": [
    "Define the inputs to the HPO job"
   ]
  },
  {
   "cell_type": "code",
   "execution_count": null,
   "metadata": {},
   "outputs": [],
   "source": [
    "# Set the input channels usig the URIs from the uplpoad\n",
    "inputs = {'training': training_inputs,\n",
    "          'validation': validation_inputs}"
   ]
  },
  {
   "cell_type": "code",
   "execution_count": null,
   "metadata": {},
   "outputs": [],
   "source": [
    "inputs"
   ]
  },
  {
   "cell_type": "markdown",
   "metadata": {},
   "source": [
    "## Perform Hyperparameter Optimization"
   ]
  },
  {
   "cell_type": "markdown",
   "metadata": {},
   "source": [
    "### Instance the Estimator\n",
    "We can use utility custom code when launching a training job. For that we must "
   ]
  },
  {
   "cell_type": "code",
   "execution_count": null,
   "metadata": {},
   "outputs": [],
   "source": [
    "from sagemaker.pytorch import PyTorch\n",
    "\n",
    "estimator = PyTorch(\n",
    "    entry_point=\"hpo_im.py\",\n",
    "    source_dir=\"s3://capstone4910/project.tar.gz\", #to use custom modular code\n",
    "    role=role,\n",
    "    py_version=\"py310\",\n",
    "    framework_version=\"2.2\",\n",
    "    instance_count=1,\n",
    "    instance_type=\"ml.g4dn.xlarge\"\n",
    ")"
   ]
  },
  {
   "cell_type": "markdown",
   "metadata": {},
   "source": [
    "### Configure hyperparameter tuner\n",
    "\n",
    "The metric_definitions parameter is crucial when using SageMaker’s Hyperparameter Tuner, as it tells the tuner how to interpret and extract metrics from the training output logs. The regular expression is used to search the output logs for the metric."
   ]
  },
  {
   "cell_type": "code",
   "execution_count": null,
   "metadata": {},
   "outputs": [],
   "source": [
    "hyperparameter_ranges = {\n",
    "    \"learning_rate\": ContinuousParameter(0.001, 0.1), # (min, max)\n",
    "    \"batch_size\": CategoricalParameter([64, 128, 256]),\n",
    "    \"epochs\": IntegerParameter(5, 10) # (min, max)\n",
    "}\n",
    "\n",
    "objective_metric_name = \"Validation MSE\"\n",
    "objective_type = \"Minimize\"\n",
    "metric_definitions = [{\"Name\": \"Validation MSE\",\n",
    "                      \"Regex\": \"Validation MSE: ([0-9\\\\.]+)\"}]\n",
    "\n",
    "#Instnace hyperparameter tuner\n",
    "tuner = HyperparameterTuner(\n",
    "    estimator,\n",
    "    objective_metric_name,\n",
    "    hyperparameter_ranges,\n",
    "    metric_definitions,\n",
    "    max_jobs=1,\n",
    "    max_parallel_jobs=1,\n",
    "    objective_type=objective_type,\n",
    "    base_tuning_job_name=\"hpo-ecoli-im01\"\n",
    ")"
   ]
  },
  {
   "cell_type": "code",
   "execution_count": null,
   "metadata": {},
   "outputs": [],
   "source": [
    "%time\n",
    "tuner.fit(inputs, wait=True)"
   ]
  },
  {
   "cell_type": "code",
   "execution_count": null,
   "metadata": {},
   "outputs": [],
   "source": [
    "# Get the hyperparams from the best run\n",
    "best_estimator = tuner.best_estimator()\n",
    "\n",
    "best_hyperparams = best_estimator.hyperparameters()\n",
    "best_hyperparams"
   ]
  },
  {
   "cell_type": "code",
   "execution_count": null,
   "metadata": {},
   "outputs": [],
   "source": [
    "# Retrieve each hyperparam\n",
    "batch_size = str(best_hyperparams.get(\"batch_size\", \"\"))\n",
    "epochs = str(best_hyperparams.get(\"epochs\", \"\"))\n",
    "learning_rate = str(best_hyperparams.get(\"learning_rate\", \"\"))\n",
    "\n",
    "print(f\"Batch size: {batch_size}, Epochs: {epochs}, Learning rate: {learning_rate}\")"
   ]
  },
  {
   "cell_type": "markdown",
   "metadata": {},
   "source": [
    "## Model Profiling and debugging"
   ]
  },
  {
   "cell_type": "markdown",
   "metadata": {},
   "source": [
    "### Set hyperparmeters for our training job\n",
    "We'll train our model with the best hyperparameters from the last HPO training jobs."
   ]
  },
  {
   "cell_type": "code",
   "execution_count": null,
   "metadata": {},
   "outputs": [],
   "source": [
    "# Set hyperparams for the training job, this can also be done in a script\n",
    "hyperparameters = {\n",
    "    \"batch_size\": 64,\n",
    "    \"epochs\": 10,\n",
    "    \"learning_rate\": 0.02\n",
    "}"
   ]
  },
  {
   "cell_type": "markdown",
   "metadata": {},
   "source": [
    "#### Key concepts of Amazon SageMaker Debugger\n",
    "\n",
    "Amazon SageMaker Debugger lets you go beyond just looking at scalars like losses and accuracies during training and gives you full visibility into all tensors 'flowing through the graph' during training. Furthermore, it helps you monitor your training in near real time using rules and provides you alerts, once it has detected inconsistency in training flow.\n",
    "\n",
    "Concepts\n",
    "- Tensors: These represent the state of the training network at intermediate points during its execution\n",
    "- Debug Hook: Hook is the construct with which Amazon SageMaker Debugger looks into the training process and captures the tensors requested at the desired step intervals\n",
    "- Rule: A logical construct, implemented as Python code, which helps analyze the tensors captured by the hook and report anomalies, if at all\n",
    "\n"
   ]
  },
  {
   "cell_type": "markdown",
   "metadata": {},
   "source": [
    "#### Create rules and hooks "
   ]
  },
  {
   "cell_type": "code",
   "execution_count": null,
   "metadata": {},
   "outputs": [],
   "source": [
    "from sagemaker.debugger import Rule, ProfilerRule, rule_configs\n",
    "\n",
    "# Create profiling and debugging rules\n",
    "rules = [\n",
    "    Rule.sagemaker(rule_configs.loss_not_decreasing()),\n",
    "    Rule.sagemaker(rule_configs.vanishing_gradient()),\n",
    "    Rule.sagemaker(rule_configs.overtraining()),\n",
    "    ProfilerRule.sagemaker(rule_configs.LowGPUUtilization()),\n",
    "    ProfilerRule.sagemaker(rule_configs.ProfilerReport()),\n",
    "]"
   ]
  },
  {
   "cell_type": "code",
   "execution_count": null,
   "metadata": {},
   "outputs": [],
   "source": [
    "from sagemaker.debugger import DebuggerHookConfig, ProfilerConfig, FrameworkProfile\n",
    "\n",
    "# Set profiler and debugger configs\n",
    "profiler_config = ProfilerConfig(\n",
    "    system_monitor_interval_millis=500,\n",
    "    framework_profile_params=FrameworkProfile(num_steps=10) #i)?\n",
    ")\n",
    "\n",
    "debugger_config = DebuggerHookConfig(\n",
    "    hook_parameters={\"train.save_interval\": \"100\", \"eval.save_interval\": \"10\"} #i) ?\n",
    ")"
   ]
  },
  {
   "cell_type": "markdown",
   "metadata": {},
   "source": [
    "### Launch a Trainig Job in SageMaker"
   ]
  },
  {
   "cell_type": "markdown",
   "metadata": {},
   "source": [
    "#### Create the PT estimator"
   ]
  },
  {
   "cell_type": "code",
   "execution_count": null,
   "metadata": {},
   "outputs": [],
   "source": [
    "from sagemaker.pytorch import PyTorch\n",
    "#role = sagemaker.get_execution_role()\n",
    "\n",
    "estimator = PyTorch(\n",
    "    base_job_name=\"train-eco-im01\", #Change for every training job\n",
    "    role=role,\n",
    "    entry_point=\"train_eco_im.py\",\n",
    "    instance_type=\"ml.g4dn.xlarge\",\n",
    "    instance_count=1,\n",
    "    framework_version=2.2,\n",
    "    py_version=\"py310\",\n",
    "    hyperparameters=hyperparameters,\n",
    "    profiler_config=profiler_config,\n",
    "    debugger_hook_config=debugger_config,\n",
    "    rules=rules\n",
    ")"
   ]
  },
  {
   "cell_type": "markdown",
   "metadata": {},
   "source": [
    "#### Train the estimator"
   ]
  },
  {
   "cell_type": "code",
   "execution_count": null,
   "metadata": {},
   "outputs": [],
   "source": [
    "inputs = {\"training\": training_inputs,\n",
    "          \"test\": validation_inputs}"
   ]
  },
  {
   "cell_type": "code",
   "execution_count": null,
   "metadata": {},
   "outputs": [],
   "source": [
    "%%time\n",
    "# Train our model\n",
    "estimator.fit(inputs, wait=True)"
   ]
  },
  {
   "cell_type": "markdown",
   "metadata": {},
   "source": [
    "Prepare for debugging and profiling analysis [required? Maybe just display the report]"
   ]
  },
  {
   "cell_type": "markdown",
   "metadata": {},
   "source": [
    "## Deploy the trained model"
   ]
  },
  {
   "cell_type": "markdown",
   "metadata": {},
   "source": [
    "## Perform inference on the testing data"
   ]
  }
 ],
 "metadata": {
  "kernelspec": {
   "display_name": "aws",
   "language": "python",
   "name": "python3"
  },
  "language_info": {
   "codemirror_mode": {
    "name": "ipython",
    "version": 3
   },
   "file_extension": ".py",
   "mimetype": "text/x-python",
   "name": "python",
   "nbconvert_exporter": "python",
   "pygments_lexer": "ipython3",
   "version": "3.9.19"
  }
 },
 "nbformat": 4,
 "nbformat_minor": 2
}
