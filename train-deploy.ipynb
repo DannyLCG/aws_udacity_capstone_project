{
 "cells": [
  {
   "cell_type": "markdown",
   "metadata": {},
   "source": [
    "# Capstone Project"
   ]
  },
  {
   "cell_type": "markdown",
   "metadata": {},
   "source": [
    "## Import Libraries and set environment"
   ]
  },
  {
   "cell_type": "code",
   "execution_count": 1,
   "metadata": {},
   "outputs": [
    {
     "name": "stdout",
     "output_type": "stream",
     "text": [
      "sagemaker.config INFO - Not applying SDK defaults from location: /etc/xdg/sagemaker/config.yaml\n",
      "sagemaker.config INFO - Not applying SDK defaults from location: /home/sagemaker-user/.config/sagemaker/config.yaml\n"
     ]
    }
   ],
   "source": [
    "import os\n",
    "\n",
    "import pandas as pd\n",
    "#import seaborn as sns #must be installed in SM\n",
    "import matplotlib.pyplot as plt\n",
    "import numpy as np\n",
    "from sklearn.model_selection import train_test_split\n",
    "\n",
    "\n",
    "import torch\n",
    "from torch import nn, optim\n",
    "import torch.nn.functional as F\n",
    "from torch.utils.data import Dataset, DataLoader\n",
    "\n",
    "import sagemaker\n",
    "import boto3\n",
    "from sagemaker.tuner import IntegerParameter, CategoricalParameter, ContinuousParameter, HyperparameterTuner"
   ]
  },
  {
   "cell_type": "code",
   "execution_count": 2,
   "metadata": {},
   "outputs": [],
   "source": [
    "# Set environment variables \n",
    "session = sagemaker.Session()\n",
    "role = sagemaker.get_execution_role()\n",
    "\n",
    "bucket = \"capstone520\"\n",
    "prefix = \"data/\""
   ]
  },
  {
   "cell_type": "markdown",
   "metadata": {},
   "source": [
    "## Explore data"
   ]
  },
  {
   "cell_type": "code",
   "execution_count": 4,
   "metadata": {},
   "outputs": [
    {
     "data": {
      "text/html": [
       "<div>\n",
       "<style scoped>\n",
       "    .dataframe tbody tr th:only-of-type {\n",
       "        vertical-align: middle;\n",
       "    }\n",
       "\n",
       "    .dataframe tbody tr th {\n",
       "        vertical-align: top;\n",
       "    }\n",
       "\n",
       "    .dataframe thead th {\n",
       "        text-align: right;\n",
       "    }\n",
       "</style>\n",
       "<table border=\"1\" class=\"dataframe\">\n",
       "  <thead>\n",
       "    <tr style=\"text-align: right;\">\n",
       "      <th></th>\n",
       "      <th>...1</th>\n",
       "      <th>bacterium</th>\n",
       "      <th>modifications</th>\n",
       "      <th>sequence</th>\n",
       "      <th>strain</th>\n",
       "      <th>unit</th>\n",
       "      <th>url_source</th>\n",
       "      <th>log(MIC)</th>\n",
       "      <th>pMIC</th>\n",
       "      <th>is_modified</th>\n",
       "      <th>...</th>\n",
       "      <th>sequence_len</th>\n",
       "      <th>id</th>\n",
       "      <th>secondary_structure</th>\n",
       "      <th>len</th>\n",
       "      <th>helix_group</th>\n",
       "      <th>sheet_group</th>\n",
       "      <th>coil_group</th>\n",
       "      <th>helix_percentage</th>\n",
       "      <th>sheet_percentage</th>\n",
       "      <th>coil_percentage</th>\n",
       "    </tr>\n",
       "  </thead>\n",
       "  <tbody>\n",
       "    <tr>\n",
       "      <th>0</th>\n",
       "      <td>2112</td>\n",
       "      <td>E. coli</td>\n",
       "      <td>[]</td>\n",
       "      <td>AAAAAAAAAAGIGKFLHSAKKFGKAFVGEIMNS</td>\n",
       "      <td>ATCC 25922</td>\n",
       "      <td>uM</td>\n",
       "      <td>https://dbaasp.org/peptide-card?id=5613</td>\n",
       "      <td>2.10</td>\n",
       "      <td>3.90</td>\n",
       "      <td>False</td>\n",
       "      <td>...</td>\n",
       "      <td>33</td>\n",
       "      <td>GRAMPA_1984</td>\n",
       "      <td>CCCHHHHHHHCCCHHHHHHHHHHHHHHHHHCCC</td>\n",
       "      <td>33</td>\n",
       "      <td>70-80</td>\n",
       "      <td>0-10</td>\n",
       "      <td>20-30</td>\n",
       "      <td>72.73</td>\n",
       "      <td>0.00</td>\n",
       "      <td>27.27</td>\n",
       "    </tr>\n",
       "    <tr>\n",
       "      <th>1</th>\n",
       "      <td>5527</td>\n",
       "      <td>E. coli</td>\n",
       "      <td>[C-Terminus: AMD]</td>\n",
       "      <td>AAAAAAAIKMLMDLVNERIMALNKKAKK</td>\n",
       "      <td>ATCC 25922</td>\n",
       "      <td>uM</td>\n",
       "      <td>https://dbaasp.org/peptide-card?id=7719</td>\n",
       "      <td>1.00</td>\n",
       "      <td>5.00</td>\n",
       "      <td>True</td>\n",
       "      <td>...</td>\n",
       "      <td>28</td>\n",
       "      <td>GRAMPA_5154</td>\n",
       "      <td>CCCHHHHHHHHHHHHHHHHHHHHHHCCC</td>\n",
       "      <td>28</td>\n",
       "      <td>70-80</td>\n",
       "      <td>0-10</td>\n",
       "      <td>20-30</td>\n",
       "      <td>78.57</td>\n",
       "      <td>0.00</td>\n",
       "      <td>21.43</td>\n",
       "    </tr>\n",
       "    <tr>\n",
       "      <th>2</th>\n",
       "      <td>7671</td>\n",
       "      <td>E. coli</td>\n",
       "      <td>[]</td>\n",
       "      <td>AAAAGSVWGAVNYTSDCNGECKRRGYKGGYCGSFANVNCWCET</td>\n",
       "      <td>NaN</td>\n",
       "      <td>uM</td>\n",
       "      <td>http://www.yadamp.unisa.it/showItem.aspx?yadam...</td>\n",
       "      <td>2.00</td>\n",
       "      <td>4.00</td>\n",
       "      <td>False</td>\n",
       "      <td>...</td>\n",
       "      <td>43</td>\n",
       "      <td>GRAMPA_5919</td>\n",
       "      <td>CCCCCCCECCCCECCCHHHHHHHCCCCEEEEECCCCCEEEEEC</td>\n",
       "      <td>43</td>\n",
       "      <td>10-20</td>\n",
       "      <td>20-30</td>\n",
       "      <td>50-60</td>\n",
       "      <td>16.28</td>\n",
       "      <td>27.91</td>\n",
       "      <td>55.81</td>\n",
       "    </tr>\n",
       "    <tr>\n",
       "      <th>3</th>\n",
       "      <td>3562</td>\n",
       "      <td>E. coli</td>\n",
       "      <td>[]</td>\n",
       "      <td>AAAKAALNAVLVGANA</td>\n",
       "      <td>TG1</td>\n",
       "      <td>uM</td>\n",
       "      <td>https://dbaasp.org/peptide-card?id=618</td>\n",
       "      <td>1.90</td>\n",
       "      <td>4.10</td>\n",
       "      <td>False</td>\n",
       "      <td>...</td>\n",
       "      <td>16</td>\n",
       "      <td>GRAMPA_3326</td>\n",
       "      <td>CCCHHHHHHHHHCCCC</td>\n",
       "      <td>16</td>\n",
       "      <td>50-60</td>\n",
       "      <td>0-10</td>\n",
       "      <td>40-50</td>\n",
       "      <td>56.25</td>\n",
       "      <td>0.00</td>\n",
       "      <td>43.75</td>\n",
       "    </tr>\n",
       "    <tr>\n",
       "      <th>4</th>\n",
       "      <td>5678</td>\n",
       "      <td>E. coli</td>\n",
       "      <td>[]</td>\n",
       "      <td>AACSDRAHGHICESFKSFCKDSGRNGVKLRANCKKTCGLC</td>\n",
       "      <td>NaN</td>\n",
       "      <td>uM</td>\n",
       "      <td>https://dbaasp.org/peptide-card?id=5171</td>\n",
       "      <td>0.25</td>\n",
       "      <td>5.75</td>\n",
       "      <td>False</td>\n",
       "      <td>...</td>\n",
       "      <td>40</td>\n",
       "      <td>GRAMPA_5298</td>\n",
       "      <td>CCCCCCCCCCCECCCCCCCCCCCCCCEEEECECHHCCCCC</td>\n",
       "      <td>40</td>\n",
       "      <td>0-10</td>\n",
       "      <td>10-20</td>\n",
       "      <td>70-80</td>\n",
       "      <td>5.00</td>\n",
       "      <td>15.00</td>\n",
       "      <td>80.00</td>\n",
       "    </tr>\n",
       "  </tbody>\n",
       "</table>\n",
       "<p>5 rows × 24 columns</p>\n",
       "</div>"
      ],
      "text/plain": [
       "   ...1 bacterium      modifications  \\\n",
       "0  2112   E. coli                 []   \n",
       "1  5527   E. coli  [C-Terminus: AMD]   \n",
       "2  7671   E. coli                 []   \n",
       "3  3562   E. coli                 []   \n",
       "4  5678   E. coli                 []   \n",
       "\n",
       "                                      sequence      strain unit  \\\n",
       "0            AAAAAAAAAAGIGKFLHSAKKFGKAFVGEIMNS  ATCC 25922   uM   \n",
       "1                 AAAAAAAIKMLMDLVNERIMALNKKAKK  ATCC 25922   uM   \n",
       "2  AAAAGSVWGAVNYTSDCNGECKRRGYKGGYCGSFANVNCWCET         NaN   uM   \n",
       "3                             AAAKAALNAVLVGANA         TG1   uM   \n",
       "4     AACSDRAHGHICESFKSFCKDSGRNGVKLRANCKKTCGLC         NaN   uM   \n",
       "\n",
       "                                          url_source  log(MIC)  pMIC  \\\n",
       "0            https://dbaasp.org/peptide-card?id=5613      2.10  3.90   \n",
       "1            https://dbaasp.org/peptide-card?id=7719      1.00  5.00   \n",
       "2  http://www.yadamp.unisa.it/showItem.aspx?yadam...      2.00  4.00   \n",
       "3             https://dbaasp.org/peptide-card?id=618      1.90  4.10   \n",
       "4            https://dbaasp.org/peptide-card?id=5171      0.25  5.75   \n",
       "\n",
       "   is_modified  ...  sequence_len           id  \\\n",
       "0        False  ...            33  GRAMPA_1984   \n",
       "1         True  ...            28  GRAMPA_5154   \n",
       "2        False  ...            43  GRAMPA_5919   \n",
       "3        False  ...            16  GRAMPA_3326   \n",
       "4        False  ...            40  GRAMPA_5298   \n",
       "\n",
       "                           secondary_structure len  helix_group sheet_group  \\\n",
       "0            CCCHHHHHHHCCCHHHHHHHHHHHHHHHHHCCC  33        70-80        0-10   \n",
       "1                 CCCHHHHHHHHHHHHHHHHHHHHHHCCC  28        70-80        0-10   \n",
       "2  CCCCCCCECCCCECCCHHHHHHHCCCCEEEEECCCCCEEEEEC  43        10-20       20-30   \n",
       "3                             CCCHHHHHHHHHCCCC  16        50-60        0-10   \n",
       "4     CCCCCCCCCCCECCCCCCCCCCCCCCEEEECECHHCCCCC  40         0-10       10-20   \n",
       "\n",
       "  coil_group  helix_percentage sheet_percentage coil_percentage  \n",
       "0      20-30             72.73             0.00           27.27  \n",
       "1      20-30             78.57             0.00           21.43  \n",
       "2      50-60             16.28            27.91           55.81  \n",
       "3      40-50             56.25             0.00           43.75  \n",
       "4      70-80              5.00            15.00           80.00  \n",
       "\n",
       "[5 rows x 24 columns]"
      ]
     },
     "execution_count": 4,
     "metadata": {},
     "output_type": "execute_result"
    }
   ],
   "source": [
    "# Import data\n",
    "dataset = pd.read_csv(\"data/ecoli_structure_filtered.csv\")\n",
    "dataset.head()"
   ]
  },
  {
   "cell_type": "code",
   "execution_count": 3,
   "metadata": {},
   "outputs": [
    {
     "data": {
      "image/png": "[encoded data removed]",
      "text/plain": [
       "<Figure size 1000x600 with 1 Axes>"
      ]
     },
     "metadata": {},
     "output_type": "display_data"
    }
   ],
   "source": [
    "# Create figure and axis\n",
    "plt.figure(figsize=(10, 6))\n",
    "\n",
    "# Density plots for secondary structure composition \n",
    "sns.kdeplot(dataset[\"helix_percentage\"], label=\"helix\", fill=True) #kde: Kernel Density Estimate\n",
    "sns.kdeplot(dataset[\"coil_percentage\"], label=\"coil\", fill=True)\n",
    "sns.kdeplot(dataset[\"sheet_percentage\"], label=\"sheet\", fill=True)\n",
    "\n",
    "# Customize the plot\n",
    "plt.title(\"Secondary structure composition across our dataset.\")\n",
    "plt.xlabel(\"Composition %\")\n",
    "plt.legend()\n",
    "\n",
    "# Show plot\n",
    "plt.show()"
   ]
  },
  {
   "cell_type": "code",
   "execution_count": 5,
   "metadata": {},
   "outputs": [
    {
     "data": {
      "text/plain": [
       "Index(['...1', 'bacterium', 'modifications', 'sequence', 'strain', 'unit',\n",
       "       'url_source', 'log(MIC)', 'pMIC', 'is_modified',\n",
       "       'has_unusual_modification', 'has_cterminal_amidation',\n",
       "       'datasource_has_modifications', 'database', 'sequence_len', 'id',\n",
       "       'secondary_structure', 'len', 'helix_group', 'sheet_group',\n",
       "       'coil_group', 'helix_percentage', 'sheet_percentage',\n",
       "       'coil_percentage'],\n",
       "      dtype='object')"
      ]
     },
     "execution_count": 5,
     "metadata": {},
     "output_type": "execute_result"
    }
   ],
   "source": [
    "dataset.columns"
   ]
  },
  {
   "cell_type": "code",
   "execution_count": 8,
   "metadata": {},
   "outputs": [
    {
     "name": "stderr",
     "output_type": "stream",
     "text": [
      "C:\\Users\\Momas\\AppData\\Local\\Temp\\ipykernel_17872\\1674920667.py:10: UserWarning: No artists with labels found to put in legend.  Note that artists whose label start with an underscore are ignored when legend() is called with no argument.\n",
      "  plt.legend()\n"
     ]
    },
    {
     "data": {
      "image/png": "[encoded data removed]",
      "text/plain": [
       "<Figure size 800x500 with 1 Axes>"
      ]
     },
     "metadata": {},
     "output_type": "display_data"
    }
   ],
   "source": [
    "# Create figure and axis\n",
    "plt.figure(figsize=(8, 5))\n",
    "\n",
    "# Density plots for secondary structure composition \n",
    "sns.histplot(dataset[\"sequence_len\"], kde=False)\n",
    "\n",
    "# Customize the plot\n",
    "plt.title(\"Sequence lenght distribution across our dataset.\")\n",
    "plt.xlabel(\"Length (residues)\")\n",
    "plt.legend()\n",
    "\n",
    "# Show plot\n",
    "plt.show()"
   ]
  },
  {
   "cell_type": "code",
   "execution_count": 5,
   "metadata": {},
   "outputs": [
    {
     "data": {
      "text/plain": [
       "(4540, 24)"
      ]
     },
     "execution_count": 5,
     "metadata": {},
     "output_type": "execute_result"
    }
   ],
   "source": [
    "dataset.shape"
   ]
  },
  {
   "cell_type": "markdown",
   "metadata": {},
   "source": [
    "## Prepare data"
   ]
  },
  {
   "cell_type": "markdown",
   "metadata": {},
   "source": [
    "### Split the data\n",
    "\n",
    "We will create data splits required to train, tune and test our models. We'll use 75% of our original data i.e. 3,405 sequences to train the models, and split in half the remaining 25% to create both our testing and validation datasets.  "
   ]
  },
  {
   "cell_type": "code",
   "execution_count": 6,
   "metadata": {},
   "outputs": [],
   "source": [
    "train_split, temp_split = train_test_split(dataset, test_size=0.25, random_state=42)"
   ]
  },
  {
   "cell_type": "code",
   "execution_count": 7,
   "metadata": {},
   "outputs": [],
   "source": [
    "test_split, val_split = train_test_split(temp_split, test_size=0.5, random_state=42)"
   ]
  },
  {
   "cell_type": "code",
   "execution_count": 8,
   "metadata": {},
   "outputs": [],
   "source": [
    "# Remove the target from the test dataset\n",
    "test_split = test_split.drop(columns=[\"pMIC\"])"
   ]
  },
  {
   "cell_type": "code",
   "execution_count": 9,
   "metadata": {},
   "outputs": [
    {
     "name": "stdout",
     "output_type": "stream",
     "text": [
      "Training set size: 3405\n",
      "Validation set size: 568\n",
      "Test set size: 567\n"
     ]
    }
   ],
   "source": [
    "print(f\"Training set size: {len(train_split)}\")\n",
    "print(f\"Validation set size: {len(val_split)}\")\n",
    "print(f\"Test set size: {len(test_split)}\")"
   ]
  },
  {
   "cell_type": "markdown",
   "metadata": {},
   "source": [
    "### Save datasets for each split\n",
    "We'll save each data split in a separate named directory so we can have more control to how we pass data to the traininng/HPO jobs."
   ]
  },
  {
   "cell_type": "code",
   "execution_count": 10,
   "metadata": {},
   "outputs": [],
   "source": [
    "# Save each split as CSV files\n",
    "train_split.to_csv(\"data/train/ecoli_train_im.csv\", index=False)\n",
    "val_split.to_csv(\"data/validation/ecoli_val_im.csv\", index=False)\n",
    "test_split.to_csv(\"data/test/ecoli_test_im.csv\", index=False)"
   ]
  },
  {
   "cell_type": "code",
   "execution_count": 11,
   "metadata": {},
   "outputs": [
    {
     "data": {
      "text/plain": [
       "'2.3.1.post100'"
      ]
     },
     "execution_count": 11,
     "metadata": {},
     "output_type": "execute_result"
    }
   ],
   "source": [
    "torch.__version__"
   ]
  },
  {
   "cell_type": "markdown",
   "metadata": {},
   "source": [
    "### Upload data to S3"
   ]
  },
  {
   "cell_type": "code",
   "execution_count": 12,
   "metadata": {},
   "outputs": [],
   "source": [
    "# Upload data \n",
    "training_inputs = session.upload_data(path=\"data/train/ecoli_train_im.csv\", bucket=bucket, key_prefix=prefix + \"train\")\n",
    "validation_inputs = session.upload_data(path=\"data/validation/ecoli_val_im.csv\", bucket=bucket, key_prefix=prefix + \"validation\")\n",
    "test_inputs = session.upload_data(path=\"data/test/ecoli_test_im.csv\", bucket=bucket, key_prefix=prefix + \"test\")"
   ]
  },
  {
   "cell_type": "markdown",
   "metadata": {},
   "source": [
    "Define the inputs to the HPO job"
   ]
  },
  {
   "cell_type": "code",
   "execution_count": 13,
   "metadata": {},
   "outputs": [],
   "source": [
    "# Set the input channels usig the URIs from the uplpoad\n",
    "inputs = {'training': training_inputs,\n",
    "          'validation': validation_inputs,\n",
    "          'test': test_inputs}"
   ]
  },
  {
   "cell_type": "code",
   "execution_count": 3,
   "metadata": {},
   "outputs": [],
   "source": [
    "# For re-running the notebook only\n",
    "inputs = {'training': 's3://capstone520/data/train/ecoli_train_im.csv',\n",
    "          'validation': 's3://capstone520/data/validation/ecoli_val_im.csv',\n",
    "          'test': 's3://capstone520/data/test/ecoli_test_im.csv'}"
   ]
  },
  {
   "cell_type": "code",
   "execution_count": 4,
   "metadata": {},
   "outputs": [
    {
     "data": {
      "text/plain": [
       "{'training': 's3://capstone520/data/train/ecoli_train_im.csv',\n",
       " 'validation': 's3://capstone520/data/validation/ecoli_val_im.csv',\n",
       " 'test': 's3://capstone520/data/test/ecoli_test_im.csv'}"
      ]
     },
     "execution_count": 4,
     "metadata": {},
     "output_type": "execute_result"
    }
   ],
   "source": [
    "inputs"
   ]
  },
  {
   "cell_type": "markdown",
   "metadata": {},
   "source": [
    "## Perform Hyperparameter Optimization"
   ]
  },
  {
   "cell_type": "markdown",
   "metadata": {},
   "source": [
    "### Instance the Estimator\n",
    "We can use utility custom code when launching a training job. For that we must compress our code and upload it to S3. \n",
    "<details>\n",
    "    <summary> Click here to see the steps </summary>\n",
    "\n",
    "```bash\n",
    "#Using the Amazon SM jupyter server terminal\n",
    "pwd\n",
    ">>> /home/sagemaker-user\n",
    "ls\n",
    ">>> aws_udacity_capstone_project\n",
    "tar -czf project.tar.gz -C aws_udacity_capstone_project/ .\n",
    ">>>\n",
    "aws s3 cp project.tar.gz s3://capstone520/\n",
    "\n",
    "```\n",
    "\n",
    "</details>"
   ]
  },
  {
   "cell_type": "code",
   "execution_count": 24,
   "metadata": {},
   "outputs": [],
   "source": [
    "from sagemaker.pytorch import PyTorch\n",
    "\n",
    "estimator = PyTorch(\n",
    "    entry_point=\"hpo_im.py\",\n",
    "    source_dir=\"s3://capstone520/project.tar.gz\", #to use custom modular code\n",
    "    role=role,\n",
    "    py_version=\"py310\",\n",
    "    framework_version=\"2.2\",\n",
    "    instance_count=1,\n",
    "    instance_type=\"ml.g4dn.xlarge\",\n",
    "    hyperparameters={\n",
    "        \"epochs\": 30 #we'll use a fixed number of epochs\n",
    "    }\n",
    ")"
   ]
  },
  {
   "cell_type": "markdown",
   "metadata": {},
   "source": [
    "### Configure hyperparameter tuner\n",
    "\n",
    "The metric_definitions parameter is crucial when using SageMaker’s Hyperparameter Tuner, as it tells the tuner how to interpret and extract metrics from the training output logs. The regular expression is used to search the output logs for the metric."
   ]
  },
  {
   "cell_type": "code",
   "execution_count": 29,
   "metadata": {},
   "outputs": [],
   "source": [
    "hyperparameter_ranges = {\n",
    "    #\"epochs\": IntegerParameter(5, 10), # (min, max)\n",
    "    \"learning_rate\": CategoricalParameter([0.0003, 0.001, 0.005, 0.01]),\n",
    "    \"batch_size\": CategoricalParameter([128, 254])\n",
    "}\n",
    "\n",
    "metric_definitions = [{\"Name\": \"Validation MSE\",\n",
    "                      \"Regex\": \"Validation MSE: *([0-9\\\\.]+)\"}]\n",
    "\n",
    "#Instance hyperparameter tuner\n",
    "tuner = HyperparameterTuner(\n",
    "    estimator,\n",
    "    objective_metric_name=\"Validation MSE\",\n",
    "    hyperparameter_ranges=hyperparameter_ranges,\n",
    "    metric_definitions=metric_definitions,\n",
    "    objective_type=\"Minimize\",\n",
    "    max_jobs=8, #adjust this to run the combination of desired runs wo. using parallel training\n",
    "    max_parallel_jobs=1,\n",
    "    base_tuning_job_name=\"hpo-ecoli-im01\"\n",
    ")"
   ]
  },
  {
   "cell_type": "code",
   "execution_count": 30,
   "metadata": {},
   "outputs": [
    {
     "name": "stderr",
     "output_type": "stream",
     "text": [
      "No finished training job found associated with this estimator. Please make sure this estimator is only used for building workflow config\n"
     ]
    },
    {
     "name": "stdout",
     "output_type": "stream",
     "text": [
      "....................................................................................................................................................!\n"
     ]
    }
   ],
   "source": [
    "tuner.fit(inputs, wait=True)"
   ]
  },
  {
   "cell_type": "markdown",
   "metadata": {},
   "source": [
    "### Compare with benchmark"
   ]
  },
  {
   "cell_type": "markdown",
   "metadata": {},
   "source": [
    "[insert image of benchmark ]"
   ]
  },
  {
   "cell_type": "code",
   "execution_count": 31,
   "metadata": {},
   "outputs": [
    {
     "name": "stdout",
     "output_type": "stream",
     "text": [
      "\n",
      "2024-10-18 19:08:37 Starting - Preparing the instances for training\n",
      "2024-10-18 19:08:37 Downloading - Downloading the training image\n",
      "2024-10-18 19:08:37 Training - Training image download completed. Training in progress.\n",
      "2024-10-18 19:08:37 Uploading - Uploading generated training model\n",
      "2024-10-18 19:08:37 Completed - Resource reused by training job: hpo-ecoli-im01-241018-1902-002-f8bad135\n"
     ]
    },
    {
     "data": {
      "text/plain": [
       "{'_tuning_objective_metric': '\"Validation MSE\"',\n",
       " 'batch_size': '\"128\"',\n",
       " 'epochs': '30',\n",
       " 'learning_rate': '\"0.01\"',\n",
       " 'sagemaker_container_log_level': '20',\n",
       " 'sagemaker_estimator_class_name': '\"PyTorch\"',\n",
       " 'sagemaker_estimator_module': '\"sagemaker.pytorch.estimator\"',\n",
       " 'sagemaker_job_name': '\"pytorch-training-2024-10-18-19-02-09-448\"',\n",
       " 'sagemaker_program': '\"hpo_im.py\"',\n",
       " 'sagemaker_region': '\"us-east-1\"',\n",
       " 'sagemaker_submit_directory': '\"s3://capstone520/project.tar.gz\"'}"
      ]
     },
     "execution_count": 31,
     "metadata": {},
     "output_type": "execute_result"
    }
   ],
   "source": [
    "# Get the hyperparams from the best run\n",
    "best_estimator = tuner.best_estimator()\n",
    "\n",
    "best_hyperparams = best_estimator.hyperparameters()\n",
    "best_hyperparams"
   ]
  },
  {
   "cell_type": "code",
   "execution_count": 32,
   "metadata": {},
   "outputs": [
    {
     "name": "stdout",
     "output_type": "stream",
     "text": [
      "Batch size: \"128\", Epochs: 30, Learning rate: \"0.01\"\n"
     ]
    }
   ],
   "source": [
    "# Retrieve each hyperparam\n",
    "batch_size = str(best_hyperparams.get(\"batch_size\", \"\"))\n",
    "epochs = str(best_hyperparams.get(\"epochs\", \"\"))\n",
    "learning_rate = str(best_hyperparams.get(\"learning_rate\", \"\"))\n",
    "\n",
    "print(f\"Batch size: {batch_size}, Epochs: {epochs}, Learning rate: {learning_rate}\")"
   ]
  },
  {
   "cell_type": "markdown",
   "metadata": {},
   "source": [
    "## Model Profiling and debugging"
   ]
  },
  {
   "cell_type": "markdown",
   "metadata": {},
   "source": [
    "### Set hyperparmeters for our training job\n",
    "We'll train our model with the best hyperparameters from the last HPO training jobs."
   ]
  },
  {
   "cell_type": "code",
   "execution_count": null,
   "metadata": {},
   "outputs": [],
   "source": [
    "# Set hyperparams for the training job, this can also be done in a script\n",
    "hyperparameters = {\n",
    "    \"batch_size\": 128,\n",
    "    \"epochs\": 30,\n",
    "    \"learning_rate\": 0.01\n",
    "}"
   ]
  },
  {
   "cell_type": "markdown",
   "metadata": {},
   "source": [
    "#### Key concepts of Amazon SageMaker Debugger\n",
    "\n",
    "Amazon SageMaker Debugger lets you go beyond just looking at scalars like losses and accuracies during training and gives you full visibility into all tensors 'flowing through the graph' during training. Furthermore, it helps you monitor your training in near real time using rules and provides you alerts, once it has detected inconsistency in training flow.\n",
    "\n",
    "Concepts\n",
    "- Tensors: These represent the state of the training network at intermediate points during its execution\n",
    "- Debug Hook: Hook is the construct with which Amazon SageMaker Debugger looks into the training process and captures the tensors requested at the desired step intervals\n",
    "- Rule: A logical construct, implemented as Python code, which helps analyze the tensors captured by the hook and report anomalies, if at all\n",
    "\n"
   ]
  },
  {
   "cell_type": "markdown",
   "metadata": {},
   "source": [
    "#### Create rules and hooks "
   ]
  },
  {
   "cell_type": "code",
   "execution_count": null,
   "metadata": {},
   "outputs": [],
   "source": [
    "from sagemaker.debugger import Rule, ProfilerRule, rule_configs\n",
    "\n",
    "# Create profiling and debugging rules\n",
    "rules = [\n",
    "    Rule.sagemaker(rule_configs.loss_not_decreasing()),\n",
    "    Rule.sagemaker(rule_configs.vanishing_gradient()),\n",
    "    Rule.sagemaker(rule_configs.overtraining()),\n",
    "    ProfilerRule.sagemaker(rule_configs.LowGPUUtilization()),\n",
    "    ProfilerRule.sagemaker(rule_configs.CPUBottleneck()),\n",
    "    ProfilerRule.sagemaker(rule_configs.ProfilerReport()),\n",
    "]"
   ]
  },
  {
   "cell_type": "code",
   "execution_count": null,
   "metadata": {},
   "outputs": [],
   "source": [
    "from sagemaker.debugger import DebuggerHookConfig, ProfilerConfig, FrameworkProfile\n",
    "\n",
    "# Set profiler and debugger configs\n",
    "profiler_config = ProfilerConfig(\n",
    "    system_monitor_interval_millis=1000,\n",
    "    framework_profile_params=FrameworkProfile(num_steps=10) \n",
    ")\n",
    "\n",
    "debugger_config = DebuggerHookConfig(\n",
    "    hook_parameters={\"train.save_interval\": \"100\", \"eval.save_interval\": \"10\"} \n",
    ")"
   ]
  },
  {
   "cell_type": "markdown",
   "metadata": {},
   "source": [
    "### Launch a Trainig Job in SageMaker"
   ]
  },
  {
   "cell_type": "markdown",
   "metadata": {},
   "source": [
    "#### Create the PT estimator"
   ]
  },
  {
   "cell_type": "code",
   "execution_count": null,
   "metadata": {},
   "outputs": [],
   "source": [
    "from sagemaker.pytorch import PyTorch\n",
    "#role = sagemaker.get_execution_role()\n",
    "\n",
    "estimator = PyTorch(\n",
    "    base_job_name=\"train-eco-im01\", #Change for every training job\n",
    "    role=role,\n",
    "    entry_point=\"train_eco_im.py\",\n",
    "    dependencies=[\"./scripts/requirements.txt\"],\n",
    "    source_dir=\"s3://capstone520/project.tar.gz\", #to use custom modular code\n",
    "    instance_type=\"ml.g4dn.xlarge\",\n",
    "    instance_count=1,\n",
    "    framework_version=2.2,\n",
    "    py_version=\"py310\",\n",
    "    hyperparameters=hyperparameters,\n",
    "    profiler_config=profiler_config,\n",
    "    debugger_hook_config=debugger_config,\n",
    "    rules=rules\n",
    ")"
   ]
  },
  {
   "cell_type": "markdown",
   "metadata": {},
   "source": [
    "#### Train the estimator"
   ]
  },
  {
   "cell_type": "code",
   "execution_count": null,
   "metadata": {},
   "outputs": [],
   "source": [
    "# Train our model\n",
    "estimator.fit(inputs, wait=True)"
   ]
  },
  {
   "cell_type": "markdown",
   "metadata": {},
   "source": [
    "Prepare for debugging and profiling analysis [required? Maybe just display the report]"
   ]
  },
  {
   "cell_type": "markdown",
   "metadata": {},
   "source": [
    "## Deploy the trained model"
   ]
  },
  {
   "cell_type": "markdown",
   "metadata": {},
   "source": [
    "## Perform inference on the testing data"
   ]
  }
 ],
 "metadata": {
  "kernelspec": {
   "display_name": "gluon",
   "language": "python",
   "name": "python3"
  },
  "language_info": {
   "codemirror_mode": {
    "name": "ipython",
    "version": 3
   },
   "file_extension": ".py",
   "mimetype": "text/x-python",
   "name": "python",
   "nbconvert_exporter": "python",
   "pygments_lexer": "ipython3",
   "version": "3.9.19"
  }
 },
 "nbformat": 4,
 "nbformat_minor": 4
}
