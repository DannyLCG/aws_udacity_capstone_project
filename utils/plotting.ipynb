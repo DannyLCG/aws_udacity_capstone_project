{
 "cells": [
  {
   "cell_type": "code",
   "execution_count": null,
   "metadata": {},
   "outputs": [],
   "source": [
    "import sagemaker\n",
    "from smdebug.trials import create_trial\n",
    "import matplotlib.pyplot as plt\n",
    "\n",
    "# Replace with your S3 output directory\n",
    "s3_output_path = \"\"\n",
    "\n",
    "# Create a trial object to inspect the Debugger data\n",
    "trial = create_trial(s3_output_path)\n",
    "\n",
    "# Extract training loss and validation loss\n",
    "train_losses = trial.tensor('loss').values()\n",
    "val_losses = trial.tensor('val_loss').values()\n",
    "\n",
    "# Assuming 'train_losses' and 'val_losses' contain loss values for each epoch\n",
    "epochs = range(1, len(train_losses) + 1)  # Epochs start from 1 to the total number of epochs\n",
    "\n",
    "# Plotting training and validation losses with epoch numbers on the x-axis\n",
    "plt.figure(figsize=(10, 6))\n",
    "plt.plot(epochs, train_losses, label='Training Loss')\n",
    "plt.plot(epochs, val_losses, label='Validation Loss')\n",
    "plt.xlabel('Epochs')  # Set x-axis label to 'Epochs'\n",
    "plt.ylabel('Loss')\n",
    "plt.title('Learning Curve')\n",
    "plt.legend()\n",
    "plt.show()"
   ]
  }
 ],
 "metadata": {
  "kernelspec": {
   "display_name": "gluon",
   "language": "python",
   "name": "python3"
  },
  "language_info": {
   "name": "python",
   "version": "3.9.19"
  }
 },
 "nbformat": 4,
 "nbformat_minor": 2
}
